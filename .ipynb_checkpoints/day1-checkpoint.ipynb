{
 "cells": [
  {
   "cell_type": "markdown",
   "id": "c7348165-360a-4302-86f1-7965477de0c3",
   "metadata": {},
   "source": [
    "# Single Neuron (Perceptron)"
   ]
  },
  {
   "attachments": {},
   "cell_type": "markdown",
   "id": "1ba388e5-9c20-4af3-b3b7-80a2a6e09206",
   "metadata": {},
   "source": [
    "![Neuron Comparison](Neuron_comparision.png)\n",
    "For now, let's not worry about the activation function and code the following diagram out\n",
    "![Single Neuron](Perceptron.png)>"
   ]
  },
  {
   "cell_type": "code",
   "execution_count": 1,
   "id": "18d34f9b-5b27-46e8-bf39-d7c1a336b2b0",
   "metadata": {},
   "outputs": [],
   "source": [
    "inputs = [1, 2, 3] #x1,x2,x3\n",
    "weights = [0.2, 0.8, -0.5] #w1,w2,w3\n",
    "bias = 2 #b"
   ]
  },
  {
   "cell_type": "code",
   "execution_count": 2,
   "id": "3be6d508-f2c3-4f06-9199-ddb15510d23c",
   "metadata": {},
   "outputs": [],
   "source": [
    "output = (inputs[0]*weights[0] + \n",
    "          inputs[1]*weights[1] + \n",
    "          inputs[2]*weights[2] + bias)"
   ]
  },
  {
   "cell_type": "code",
   "execution_count": 3,
   "id": "c9f5ce1a-a504-4883-960f-566a4165f72c",
   "metadata": {},
   "outputs": [
    {
     "name": "stdout",
     "output_type": "stream",
     "text": [
      "2.3\n"
     ]
    }
   ],
   "source": [
    "print(output)"
   ]
  },
  {
   "cell_type": "code",
   "execution_count": 4,
   "id": "833b7b70-acd0-44ee-a64a-06cab8c480a0",
   "metadata": {},
   "outputs": [],
   "source": [
    "# OR\n",
    "output = 0\n",
    "for i in range(len(inputs)):\n",
    "    output += inputs[i]*weights[i]\n",
    "output += bias"
   ]
  },
  {
   "cell_type": "code",
   "execution_count": 5,
   "id": "53cbce36-5a82-492a-8e7f-f2b8a68c74b9",
   "metadata": {},
   "outputs": [
    {
     "name": "stdout",
     "output_type": "stream",
     "text": [
      "2.3\n"
     ]
    }
   ],
   "source": [
    "print(output)"
   ]
  },
  {
   "cell_type": "code",
   "execution_count": null,
   "id": "c922012f-81b8-41f0-9bed-82130c94053a",
   "metadata": {},
   "outputs": [],
   "source": []
  }
 ],
 "metadata": {
  "kernelspec": {
   "display_name": "Python 3 (ipykernel)",
   "language": "python",
   "name": "python3"
  },
  "language_info": {
   "codemirror_mode": {
    "name": "ipython",
    "version": 3
   },
   "file_extension": ".py",
   "mimetype": "text/x-python",
   "name": "python",
   "nbconvert_exporter": "python",
   "pygments_lexer": "ipython3",
   "version": "3.11.4"
  }
 },
 "nbformat": 4,
 "nbformat_minor": 5
}
