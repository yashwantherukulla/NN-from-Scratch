{
 "cells": [
  {
   "cell_type": "markdown",
   "id": "43e6b332-9d24-4e24-91aa-68eb4fc4298f",
   "metadata": {},
   "source": [
    "# Backpropagation"
   ]
  },
  {
   "cell_type": "code",
   "execution_count": null,
   "id": "63e95522-9502-481f-9124-9f1604a2fbcf",
   "metadata": {},
   "outputs": [],
   "source": [
    "inputs = [1, 2, 3] #x1,x2,x3\n",
    "weights = [0.2, 0.1, -0.3] #w1,w2,w3\n",
    "bias = 4 #b\n",
    "\n",
    "output = (inputs[0]*weights[0] + \n",
    "          inputs[1]*weights[1] + \n",
    "          inputs[2]*weights[2] + bias)"
   ]
  },
  {
   "attachments": {},
   "cell_type": "markdown",
   "id": "73a3ddb1-ab0d-48fb-8bc8-8b10b0ccffa1",
   "metadata": {},
   "source": [
    "![computation_graph.png](attachments/computation_graph.png)"
   ]
  },
  {
   "cell_type": "code",
   "execution_count": null,
   "id": "dd6db591-8710-4ecc-a34a-93b168e163e3",
   "metadata": {},
   "outputs": [],
   "source": []
  },
  {
   "cell_type": "markdown",
   "id": "8d43cf74-ca0c-4f49-8aa1-099c0d362acf",
   "metadata": {},
   "source": [
    "## Categorical Cross-Entropy loss derivativen"
   ]
  },
  {
   "cell_type": "code",
   "execution_count": null,
   "id": "6ab67c67-3868-4e4c-81e2-442426a1ff68",
   "metadata": {},
   "outputs": [],
   "source": []
  }
 ],
 "metadata": {
  "kernelspec": {
   "display_name": "Python 3 (ipykernel)",
   "language": "python",
   "name": "python3"
  },
  "language_info": {
   "codemirror_mode": {
    "name": "ipython",
    "version": 3
   },
   "file_extension": ".py",
   "mimetype": "text/x-python",
   "name": "python",
   "nbconvert_exporter": "python",
   "pygments_lexer": "ipython3",
   "version": "3.11.4"
  }
 },
 "nbformat": 4,
 "nbformat_minor": 5
}
